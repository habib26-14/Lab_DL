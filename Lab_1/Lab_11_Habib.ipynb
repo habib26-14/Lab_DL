{
 "nbformat": 4,
 "nbformat_minor": 0,
 "metadata": {
  "colab": {
   "provenance": []
  },
  "kernelspec": {
   "name": "python3",
   "language": "python",
   "display_name": "Python 3 (ipykernel)"
  },
  "language_info": {
   "name": "python"
  }
 },
 "cells": [
  {
   "cell_type": "raw",
   "source": [
    "# Lab 11_Habib : Classificaiton des images de vêtements\n",
    "<a href=\"https://colab.research.google.com/github/tensorflow/docs/blob/master/site/en/tutorials/keras/classification.ipynb?hl=fr#scrollTo=xvwvpA64CaW_\">code source</a>"
   ],
   "metadata": {
    "collapsed": false
   }
  },
  {
   "cell_type": "markdown",
   "source": [
    "# Step 1 : Importer les bibliothèques"
   ],
   "metadata": {
    "id": "4UCuWxDn90DS"
   }
  },
  {
   "cell_type": "code",
   "execution_count": 2,
   "metadata": {
    "colab": {
     "base_uri": "https://localhost:8080/"
    },
    "id": "Nl3Mv0dk8fjH",
    "outputId": "ab6d89a2-0bd4-48df-871a-5a55e1755fd5",
    "ExecuteTime": {
     "end_time": "2023-12-02T11:16:15.093691700Z",
     "start_time": "2023-12-02T11:16:15.076615400Z"
    }
   },
   "outputs": [],
   "source": [
    "# TensorFlow and tf.keras\n",
    "import tensorflow as tf\n",
    "\n",
    "# Helper libraries\n",
    "import numpy as np\n",
    "import matplotlib.pyplot as plt"
   ]
  },
  {
   "cell_type": "markdown",
   "source": [
    "# Step 2 : Charger les données"
   ],
   "metadata": {
    "id": "0z5lg_3y8q4S"
   }
  },
  {
   "cell_type": "code",
   "source": [
    "fashion_mnist = tf.keras.datasets.fashion_mnist\n",
    "\n",
    "(train_images, train_labels), (test_images, test_labels) = fashion_mnist.load_data()\n",
    "\n",
    "class_names = ['T-shirt/top', 'Trouser', 'Pullover', 'Dress', 'Coat',\n",
    "               'Sandal', 'Shirt', 'Sneaker', 'Bag', 'Ankle boot']"
   ],
   "metadata": {
    "colab": {
     "base_uri": "https://localhost:8080/"
    },
    "id": "l5u_Sj-x8uyN",
    "outputId": "7b089f1c-4292-452a-c888-c4f3170e6a9b",
    "ExecuteTime": {
     "end_time": "2023-12-02T11:16:23.554664300Z",
     "start_time": "2023-12-02T11:16:22.967185100Z"
    }
   },
   "execution_count": 3,
   "outputs": []
  },
  {
   "cell_type": "markdown",
   "source": [
    "# Step 3 : Preparer les données pour le training"
   ],
   "metadata": {
    "id": "n-WGb2IC879e"
   }
  },
  {
   "cell_type": "code",
   "source": [
    "train_images = train_images / 255.0\n",
    "\n",
    "test_images = test_images / 255.0\n"
   ],
   "metadata": {
    "id": "As4QODwl9GCJ",
    "ExecuteTime": {
     "end_time": "2023-12-02T11:16:28.175116300Z",
     "start_time": "2023-12-02T11:16:27.978137900Z"
    }
   },
   "execution_count": 4,
   "outputs": []
  },
  {
   "cell_type": "markdown",
   "source": [
    "# Step 4 : Construire le réseau de neurones"
   ],
   "metadata": {
    "id": "DlqBM1T19M65"
   }
  },
  {
   "cell_type": "code",
   "source": [
    "model = tf.keras.Sequential([\n",
    "    tf.keras.layers.Flatten(input_shape=(28, 28)),\n",
    "    tf.keras.layers.Dense(128, activation='relu'),\n",
    "    tf.keras.layers.Dense(10)\n",
    "])"
   ],
   "metadata": {
    "id": "hArwP3Af9PSQ",
    "ExecuteTime": {
     "end_time": "2023-12-02T11:16:31.324975200Z",
     "start_time": "2023-12-02T11:16:31.099816Z"
    }
   },
   "execution_count": 5,
   "outputs": []
  },
  {
   "cell_type": "markdown",
   "source": [
    "# Step 5 : Compiler le modèle"
   ],
   "metadata": {
    "id": "4D4P5bKe-su2"
   }
  },
  {
   "cell_type": "code",
   "source": [
    "model.compile(optimizer='adam',\n",
    "              loss=tf.keras.losses.SparseCategoricalCrossentropy(from_logits=True),\n",
    "              metrics=['accuracy'])"
   ],
   "metadata": {
    "id": "Z-6LseNN9Sww",
    "ExecuteTime": {
     "end_time": "2023-12-02T11:16:34.996557300Z",
     "start_time": "2023-12-02T11:16:34.962427800Z"
    }
   },
   "execution_count": 6,
   "outputs": []
  },
  {
   "cell_type": "markdown",
   "source": [
    "# Step 6 : Entrainer le modèle"
   ],
   "metadata": {
    "id": "sJWvVBTH-4xw"
   }
  },
  {
   "cell_type": "code",
   "source": [
    "model.fit(train_images, train_labels, epochs=10)"
   ],
   "metadata": {
    "colab": {
     "base_uri": "https://localhost:8080/"
    },
    "id": "3TOE8yzJ9UUi",
    "outputId": "2f511fb7-f1f0-49d8-931a-47ad44d0c58a",
    "ExecuteTime": {
     "end_time": "2023-12-02T11:17:42.508920400Z",
     "start_time": "2023-12-02T11:16:42.952964400Z"
    }
   },
   "execution_count": 7,
   "outputs": [
    {
     "name": "stdout",
     "output_type": "stream",
     "text": [
      "Epoch 1/10\n",
      "1875/1875 [==============================] - 6s 3ms/step - loss: 0.5004 - accuracy: 0.8240\n",
      "Epoch 2/10\n",
      "1875/1875 [==============================] - 6s 3ms/step - loss: 0.3762 - accuracy: 0.8650\n",
      "Epoch 3/10\n",
      "1875/1875 [==============================] - 6s 3ms/step - loss: 0.3375 - accuracy: 0.8779\n",
      "Epoch 4/10\n",
      "1875/1875 [==============================] - 5s 3ms/step - loss: 0.3137 - accuracy: 0.8858\n",
      "Epoch 5/10\n",
      "1875/1875 [==============================] - 5s 3ms/step - loss: 0.2953 - accuracy: 0.8905\n",
      "Epoch 6/10\n",
      "1875/1875 [==============================] - 6s 3ms/step - loss: 0.2796 - accuracy: 0.8960\n",
      "Epoch 7/10\n",
      "1875/1875 [==============================] - 6s 3ms/step - loss: 0.2668 - accuracy: 0.9004\n",
      "Epoch 8/10\n",
      "1875/1875 [==============================] - 6s 3ms/step - loss: 0.2568 - accuracy: 0.9044\n",
      "Epoch 9/10\n",
      "1875/1875 [==============================] - 6s 3ms/step - loss: 0.2464 - accuracy: 0.9080\n",
      "Epoch 10/10\n",
      "1875/1875 [==============================] - 6s 3ms/step - loss: 0.2362 - accuracy: 0.9126\n"
     ]
    },
    {
     "data": {
      "text/plain": "<keras.src.callbacks.History at 0x220f8aed690>"
     },
     "execution_count": 7,
     "metadata": {},
     "output_type": "execute_result"
    }
   ]
  },
  {
   "cell_type": "markdown",
   "source": [
    "# Step 7 : Tester la précision du modèle"
   ],
   "metadata": {
    "id": "hnJ95kXo9YYs"
   }
  },
  {
   "cell_type": "code",
   "source": [
    "test_loss, test_acc = model.evaluate(test_images,  test_labels, verbose=2)\n",
    "\n",
    "print('\\nTest accuracy:', test_acc)"
   ],
   "metadata": {
    "colab": {
     "base_uri": "https://localhost:8080/"
    },
    "id": "B2rhCzjO9cH_",
    "outputId": "d2c6b088-9234-4a40-d9f4-6d07a8147deb",
    "ExecuteTime": {
     "end_time": "2023-12-02T11:17:48.150652200Z",
     "start_time": "2023-12-02T11:17:47.160498800Z"
    }
   },
   "execution_count": 8,
   "outputs": [
    {
     "name": "stdout",
     "output_type": "stream",
     "text": [
      "313/313 - 1s - loss: 0.3325 - accuracy: 0.8866 - 870ms/epoch - 3ms/step\n",
      "\n",
      "Test accuracy: 0.8866000175476074\n"
     ]
    }
   ]
  },
  {
   "cell_type": "markdown",
   "source": [
    "# Step 8 : Faire la prédiciton"
   ],
   "metadata": {
    "id": "-wBnY7JX_IIl"
   }
  },
  {
   "cell_type": "code",
   "source": [
    "probability_model = tf.keras.Sequential([model,\n",
    "                                         tf.keras.layers.Softmax()])\n",
    "predictions = probability_model.predict(test_images)\n",
    "predictions[0]"
   ],
   "metadata": {
    "colab": {
     "base_uri": "https://localhost:8080/"
    },
    "id": "cxjARkwI_NI4",
    "outputId": "58be9844-92e4-43ae-d9ed-48c32490b84a",
    "ExecuteTime": {
     "end_time": "2023-12-02T11:17:54.216766800Z",
     "start_time": "2023-12-02T11:17:53.286060800Z"
    }
   },
   "execution_count": 9,
   "outputs": [
    {
     "name": "stdout",
     "output_type": "stream",
     "text": [
      "313/313 [==============================] - 1s 2ms/step\n"
     ]
    },
    {
     "data": {
      "text/plain": "array([3.3569185e-07, 5.8738440e-08, 5.5355193e-11, 2.4846489e-11,\n       1.7859719e-09, 1.9308580e-04, 5.0105282e-08, 1.4180735e-02,\n       2.1835511e-07, 9.8562545e-01], dtype=float32)"
     },
     "execution_count": 9,
     "metadata": {},
     "output_type": "execute_result"
    }
   ]
  }
 ]
}
